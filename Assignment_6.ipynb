{
 "cells": [
  {
   "cell_type": "code",
   "execution_count": null,
   "id": "73b093d7",
   "metadata": {},
   "outputs": [],
   "source": [
    "1. What are escape characters, and how do you use them?\n",
    "\n",
    "Ans : \n",
    "    \n",
    "Escape characters represent characters in string values that would otherwise be difficult or impossible to type into code"
   ]
  },
  {
   "cell_type": "code",
   "execution_count": null,
   "id": "3e612f62",
   "metadata": {},
   "outputs": [],
   "source": [
    "2. What do the escape characters n and t stand for?\n",
    "\n",
    "Ans: \n",
    "    \n",
    "\\n is a newline; \\t is a tab\n"
   ]
  },
  {
   "cell_type": "code",
   "execution_count": null,
   "id": "dae3607a",
   "metadata": {},
   "outputs": [],
   "source": [
    "3. What is the way to include backslash characters in a string?\n",
    "\n",
    "Ans : \n",
    "    \n",
    "txt = \"We are the called \\\"Natarajan\\\" from the north.\"\n",
    "print(txt) \n"
   ]
  },
  {
   "cell_type": "code",
   "execution_count": null,
   "id": "5d9f9cd4",
   "metadata": {},
   "outputs": [],
   "source": [
    "4. The string \"Howl's Moving Castle\" is a correct value. Why isn't the single quote character in the word Howl's not escaped a problem?\n",
    "\n",
    "Ans: \n",
    "    \n",
    "The single quote in Howl's is fine because we've used double quotes to mark the beginning and end of the string.\n"
   ]
  },
  {
   "cell_type": "code",
   "execution_count": null,
   "id": "88cc2cb3",
   "metadata": {},
   "outputs": [],
   "source": [
    "5. How do you write a string of newlines if you don't want to use the n character?\n",
    "\n",
    "Ans: \n",
    "    \n",
    "Multiline strings allow you to use newlines in strings without the \\n escape character.\n"
   ]
  },
  {
   "cell_type": "code",
   "execution_count": null,
   "id": "2b04b190",
   "metadata": {},
   "outputs": [],
   "source": [
    "6. What are the values of the given expressions?\n",
    "'Hello, world!'[1]\n",
    "'Hello, world!'[0:5]\n",
    "'Hello, world!'[:5]\n",
    "'Hello, world!'[3:]\n",
    "\n",
    "Ans : \n",
    "    \n",
    "'e'\n",
    "\n",
    "'Hello'\n",
    "\n",
    "'Hello'\n",
    "\n",
    "'lo world!"
   ]
  },
  {
   "cell_type": "code",
   "execution_count": null,
   "id": "bebfa886",
   "metadata": {},
   "outputs": [],
   "source": [
    "7. What are the values of the following expressions?\n",
    "'Hello'.upper()\n",
    "'Hello'.upper().isupper()\n",
    "'Hello'.upper().lower()\n",
    "\n",
    "Ans:\n",
    "    \n",
    "'HELLO'\n",
    "\n",
    "True\n",
    "\n",
    "'hello'\n"
   ]
  },
  {
   "cell_type": "code",
   "execution_count": null,
   "id": "8a958575",
   "metadata": {},
   "outputs": [],
   "source": [
    "8. What are the values of the following expressions?\n",
    "'Remember, remember, the fifth of July.'.split()\n",
    "\n",
    "\n",
    "Ans:\n",
    "    \n",
    "['Remember,', 'remember,', 'the', 'fifth', 'of', 'November.']\n",
    "\n",
    "'-'.join('There can only one.'.split())\n",
    "\n",
    "'There-can-be-only-one.\n"
   ]
  },
  {
   "cell_type": "code",
   "execution_count": null,
   "id": "b4e3d13b",
   "metadata": {},
   "outputs": [],
   "source": [
    "9. What are the methods for right-justifying, left-justifying, and centering a string?\n",
    "\n",
    "Ans: \n",
    "\n",
    "The rjust(), ljust(), and center() string methods, respectively\n"
   ]
  },
  {
   "cell_type": "code",
   "execution_count": null,
   "id": "4e08a614",
   "metadata": {},
   "outputs": [],
   "source": [
    "10. What is the best way to remove whitespace characters from the start or end?\n",
    "\n",
    "Ans :\n",
    "\n",
    "The lstrip() and rstrip() methods remove whitespace from the left and right ends of a string, respectively."
   ]
  }
 ],
 "metadata": {
  "kernelspec": {
   "display_name": "Python 3",
   "language": "python",
   "name": "python3"
  },
  "language_info": {
   "codemirror_mode": {
    "name": "ipython",
    "version": 3
   },
   "file_extension": ".py",
   "mimetype": "text/x-python",
   "name": "python",
   "nbconvert_exporter": "python",
   "pygments_lexer": "ipython3",
   "version": "3.8.8"
  }
 },
 "nbformat": 4,
 "nbformat_minor": 5
}
